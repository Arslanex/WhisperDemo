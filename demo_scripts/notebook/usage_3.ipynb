{
 "cells": [
  {
   "cell_type": "code",
   "id": "initial_id",
   "metadata": {
    "collapsed": true,
    "ExecuteTime": {
     "end_time": "2024-11-22T21:12:16.629011Z",
     "start_time": "2024-11-22T21:12:15.827145Z"
    }
   },
   "source": "from whisper_transcriber import WhisperTranscriber, TranscriptionConfig",
   "outputs": [],
   "execution_count": 1
  },
  {
   "metadata": {
    "ExecuteTime": {
     "end_time": "2024-11-22T21:12:34.702263Z",
     "start_time": "2024-11-22T21:12:34.698975Z"
    }
   },
   "cell_type": "code",
   "source": [
    "config = TranscriptionConfig(\n",
    "    task='translate',       # İngilizceye çevir\n",
    "    model_name='medium'     # Çeviri için önerilen model\n",
    ")"
   ],
   "id": "32721128ef75d908",
   "outputs": [],
   "execution_count": 2
  },
  {
   "metadata": {
    "ExecuteTime": {
     "end_time": "2024-11-22T21:13:22.652023Z",
     "start_time": "2024-11-22T21:13:12.410455Z"
    }
   },
   "cell_type": "code",
   "source": "translater = WhisperTranscriber(config)",
   "id": "65c4274bae121143",
   "outputs": [
    {
     "name": "stderr",
     "output_type": "stream",
     "text": [
      "/Users/enesa/PycharmProjects/WhisperDemo/.venv/lib/python3.11/site-packages/whisper/__init__.py:150: FutureWarning: You are using `torch.load` with `weights_only=False` (the current default value), which uses the default pickle module implicitly. It is possible to construct malicious pickle data which will execute arbitrary code during unpickling (See https://github.com/pytorch/pytorch/blob/main/SECURITY.md#untrusted-models for more details). In a future release, the default value for `weights_only` will be flipped to `True`. This limits the functions that could be executed during unpickling. Arbitrary objects will no longer be allowed to be loaded via this mode unless they are explicitly allowlisted by the user via `torch.serialization.add_safe_globals`. We recommend you start setting `weights_only=True` for any use case where you don't have full control of the loaded file. Please open an issue on GitHub for any issues related to this experimental feature.\n",
      "  checkpoint = torch.load(fp, map_location=device)\n"
     ]
    }
   ],
   "execution_count": 3
  },
  {
   "metadata": {
    "ExecuteTime": {
     "end_time": "2024-11-22T21:15:47.083352Z",
     "start_time": "2024-11-22T21:13:35.001491Z"
    }
   },
   "cell_type": "code",
   "source": "result = translater.transcribe('demo.mp3')",
   "id": "4a9bd476e6a41dea",
   "outputs": [
    {
     "name": "stderr",
     "output_type": "stream",
     "text": [
      "/Users/enesa/PycharmProjects/WhisperDemo/.venv/lib/python3.11/site-packages/whisper/transcribe.py:126: UserWarning: FP16 is not supported on CPU; using FP32 instead\n",
      "  warnings.warn(\"FP16 is not supported on CPU; using FP32 instead\")\n"
     ]
    }
   ],
   "execution_count": 5
  },
  {
   "metadata": {
    "ExecuteTime": {
     "end_time": "2024-11-22T21:17:35.803597Z",
     "start_time": "2024-11-22T21:17:35.799135Z"
    }
   },
   "cell_type": "code",
   "source": "print(result.keys())",
   "id": "284f2fa6f450243b",
   "outputs": [
    {
     "name": "stdout",
     "output_type": "stream",
     "text": [
      "dict_keys(['text', 'segments', 'language'])\n"
     ]
    }
   ],
   "execution_count": 6
  },
  {
   "metadata": {
    "ExecuteTime": {
     "end_time": "2024-11-22T21:18:02.387574Z",
     "start_time": "2024-11-22T21:18:02.383711Z"
    }
   },
   "cell_type": "code",
   "source": "print(result['text'])",
   "id": "8de8c75d8feb29d8",
   "outputs": [
    {
     "name": "stdout",
     "output_type": "stream",
     "text": [
      " Imagine you're a movie star with both an assistant and an agent. You know, I was chatting to both of mine just yesterday. Sure you were. Now, assistants, they help with scheduling, and agents are more proactive, seeking opportunities for you. Artificial intelligence works much the same way. You have AI assistants and AI agents. And in this video, we are going to explore how both of these types of AI are shaping the future of work. Right. And at a fundamental level, I think we can say the main difference is that AI assistants, they're reactive, right? They're waiting for commands like a prompt from the user, while AI agents are proactive. They're acting autonomously to achieve a goal. So, when you say we get into it. Let's do it. So let's start with AI assistants. These helpful little apps understand natural language, and they're great for doing things like organizing information or responding to customer queries. Examples that we know are Siri, Alexa, or chat GPT. Right. And most AI assistants, they're built on something called large language models, or LLMs, that allow them to understand natural language commands. Now, they rely on something called prompts from users to take action, which means they need well-defined instructions. And with those well-defined instructions, AI assistants can make recommendations, fetch information, and even generate content. But they are always waiting for your input to get started. And you have to continue to direct them, like a tennis match. Prompt, response, prompt, response, prompt. Response. Think I get it. And there's a lot we can do to improve the quality of these prompt responses. And for example, AI assistants may improve over time through prompt tuning, which is adapting the underlying AI model for a specific task. And we can also teach an assistant some new tricks. That's called fine tuning. We can fine tune these LLM models with specific examples. And that way, it can get better at performing repetitive tasks like drafting documents based on patterns that it's learned. Now, AI agents, on the other hand, they act independently. You know, they take initiative. They break down tasks and find the best way to achieve a goal. Right? Right. They don't need the constant handholding of user prompts. AI agents, they're still built on large language models, but they can design their own workflows. They do need a prompt, but just an initial prompt, just one to get it started, telling the agent what we want it to do. So for example, one good prompt might be a goal of optimize our sales strategy. The agent doesn't need further prompts. It can use external data, tools, and reasoning to make decisions autonomously. So if AI assistants are your helpers taking care of routine tasks, AI agents are your strategists, proactively driving outcomes. Exactly, Amanda. And to quote Elvis Presley, a little less conversation, a little more action, please. I thought you were going to do the voice. You do not want to hear me doing the voice. Now, AI agents, they can use external tools. They can use external data sources, whereas assistants, they depend on user input. And agents can also have persistent memory, meaning they remember past actions and improve future decisions based on those experiences. So let's compare use cases. Assistants, they excel at tasks like customers. I've got it. I've got it. Customer service. Customer service. Virtual assistants, like chat bots, and code generation. Code gen, that is a good one. So for example, in customer service, assistants use machine learning to quickly analyze large amounts of customer data and then respond to queries, often reducing the time that us humans need to spend on boring, repetitive tasks. Thank goodness. And AI agents, they thrive in more strategic roles, like automated trading. It's like, I got this. I got this. Like automated trading in finance and network monitoring. Aha, yeah. Right. So let's take automated trading, for an example. AI agents analyze vast data sets filled with data like historical trends and current news, and then they use that information to extract insights. And those insights predict how the market will behave and execute trades in real time based upon those predictive algorithms. Super cool. So assistants, they handle your routine tasks, while agents, they take on more complex, high-level challenges. And AI agents, they can scale across multiple tasks all at the same time without any human intervention, making them ideal for dynamic and ambiguous problems. Speaking of problems, though, AI assistants and AI agents can have limitations, like brittleness, when slight changes to prompts lead to errors. Yes, beware the rabbit hole. AI agents in particular may get stuck in feedback loops, or they might require significant computational resources, making them expensive to run. Without supervision, they can go down all sorts of weird and wonderful paths. Always good to check those AI outputs. But there's improvement happening every day, and as AI agents improve, we'll likely see them tackling even more complex problems without needing human assistance. And we're already seeing improvements in model reasoning, meaning that AI agents will become more reliable and effective over time. Take, for example, OpenAI's O1 model, which performs reasoning at inference time. So to recap, AI assistants, they help with your day-to-day tasks, while AI agents take on a more autonomous approach to problem solving. And it's not necessarily an either-or here, because as these technologies evolve, expect to see more synergy between assistants and agents combining their strengths to tackle both simple and complex tasks. It's the movie star's assistant and agent not only working together, but also knowing the best way to do so, even if you don't. Nice!\n"
     ]
    }
   ],
   "execution_count": 7
  }
 ],
 "metadata": {
  "kernelspec": {
   "display_name": "Python 3",
   "language": "python",
   "name": "python3"
  },
  "language_info": {
   "codemirror_mode": {
    "name": "ipython",
    "version": 2
   },
   "file_extension": ".py",
   "mimetype": "text/x-python",
   "name": "python",
   "nbconvert_exporter": "python",
   "pygments_lexer": "ipython2",
   "version": "2.7.6"
  }
 },
 "nbformat": 4,
 "nbformat_minor": 5
}
