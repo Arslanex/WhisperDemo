{
 "cells": [
  {
   "cell_type": "code",
   "id": "initial_id",
   "metadata": {
    "collapsed": true,
    "ExecuteTime": {
     "end_time": "2024-11-22T22:46:17.263479Z",
     "start_time": "2024-11-22T22:46:17.259614Z"
    }
   },
   "source": "from whisper_transcriber import WhisperTranscriber, TranscriptionConfig",
   "outputs": [],
   "execution_count": 5
  },
  {
   "metadata": {
    "ExecuteTime": {
     "end_time": "2024-11-22T22:46:17.275721Z",
     "start_time": "2024-11-22T22:46:17.273032Z"
    }
   },
   "cell_type": "code",
   "source": [
    "# Yapılandırma oluştur\n",
    "config = TranscriptionConfig(\n",
    "    model_name='base',      # Kullanılacak Whisper modeli\n",
    "    verbose=False           # Ayrıntılı çıktıyı devre dışı bırak\n",
    ")"
   ],
   "id": "c38563502c999244",
   "outputs": [],
   "execution_count": 6
  },
  {
   "metadata": {
    "ExecuteTime": {
     "end_time": "2024-11-22T22:46:18.350437Z",
     "start_time": "2024-11-22T22:46:17.281465Z"
    }
   },
   "cell_type": "code",
   "source": "transcriber = WhisperTranscriber(config)",
   "id": "40b2aa4e89cf14e4",
   "outputs": [
    {
     "name": "stderr",
     "output_type": "stream",
     "text": [
      "/Users/enesa/PycharmProjects/WhisperDemo/.venv/lib/python3.11/site-packages/whisper/__init__.py:150: FutureWarning: You are using `torch.load` with `weights_only=False` (the current default value), which uses the default pickle module implicitly. It is possible to construct malicious pickle data which will execute arbitrary code during unpickling (See https://github.com/pytorch/pytorch/blob/main/SECURITY.md#untrusted-models for more details). In a future release, the default value for `weights_only` will be flipped to `True`. This limits the functions that could be executed during unpickling. Arbitrary objects will no longer be allowed to be loaded via this mode unless they are explicitly allowlisted by the user via `torch.serialization.add_safe_globals`. We recommend you start setting `weights_only=True` for any use case where you don't have full control of the loaded file. Please open an issue on GitHub for any issues related to this experimental feature.\n",
      "  checkpoint = torch.load(fp, map_location=device)\n"
     ]
    }
   ],
   "execution_count": 7
  },
  {
   "metadata": {
    "ExecuteTime": {
     "end_time": "2024-11-22T22:46:40.140462Z",
     "start_time": "2024-11-22T22:46:18.354689Z"
    }
   },
   "cell_type": "code",
   "source": "transcriber.process_file('demo.mp3')",
   "id": "f760cfe8c2b1faeb",
   "outputs": [
    {
     "name": "stderr",
     "output_type": "stream",
     "text": [
      "/Users/enesa/PycharmProjects/WhisperDemo/.venv/lib/python3.11/site-packages/whisper/transcribe.py:126: UserWarning: FP16 is not supported on CPU; using FP32 instead\n",
      "  warnings.warn(\"FP16 is not supported on CPU; using FP32 instead\")\n"
     ]
    },
    {
     "name": "stdout",
     "output_type": "stream",
     "text": [
      "Detected language: English\n"
     ]
    },
    {
     "name": "stderr",
     "output_type": "stream",
     "text": [
      "100%|██████████| 40857/40857 [00:20<00:00, 1949.27frames/s]\n"
     ]
    },
    {
     "data": {
      "text/plain": [
       "'transcriptions/demo.srt'"
      ]
     },
     "execution_count": 8,
     "metadata": {},
     "output_type": "execute_result"
    }
   ],
   "execution_count": 8
  },
  {
   "metadata": {
    "ExecuteTime": {
     "end_time": "2024-11-22T22:46:40.145858Z",
     "start_time": "2024-11-22T22:46:40.144727Z"
    }
   },
   "cell_type": "code",
   "source": "",
   "id": "2daacb32c7046362",
   "outputs": [],
   "execution_count": null
  }
 ],
 "metadata": {
  "kernelspec": {
   "display_name": "Python 3",
   "language": "python",
   "name": "python3"
  },
  "language_info": {
   "codemirror_mode": {
    "name": "ipython",
    "version": 2
   },
   "file_extension": ".py",
   "mimetype": "text/x-python",
   "name": "python",
   "nbconvert_exporter": "python",
   "pygments_lexer": "ipython2",
   "version": "2.7.6"
  }
 },
 "nbformat": 4,
 "nbformat_minor": 5
}
